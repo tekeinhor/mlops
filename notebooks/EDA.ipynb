{
 "cells": [
  {
   "cell_type": "code",
   "execution_count": null,
   "id": "36aa3769",
   "metadata": {},
   "outputs": [],
   "source": [
    "import pandas as pd\n",
    "import matplotlib.pyplot as plt\n",
    "import seaborn as sns\n",
    "plt.style.use('bmh')"
   ]
  },
  {
   "cell_type": "markdown",
   "id": "46efc161",
   "metadata": {},
   "source": [
    "# Exploratory data analysis (EDA)"
   ]
  },
  {
   "cell_type": "markdown",
   "id": "5fc6ac89",
   "metadata": {},
   "source": [
    "The **goal** of this notebook is to understand the distribution of the data that was provided to us.\n",
    "\n",
    "We have a dataset of logs of a span of 5 minutes representing users events on a marketplace. Some of the events come from bots producing fake clicks and leads.\n",
    "\n",
    "Let's start by taking a look at how our data looks like."
   ]
  },
  {
   "cell_type": "code",
   "execution_count": null,
   "id": "62bce671",
   "metadata": {},
   "outputs": [],
   "source": [
    "df = pd.read_csv(\"../data/fake_users.csv\")"
   ]
  },
  {
   "cell_type": "code",
   "execution_count": null,
   "id": "1a019246",
   "metadata": {},
   "outputs": [],
   "source": [
    "df.head()"
   ]
  },
  {
   "cell_type": "code",
   "execution_count": null,
   "id": "6e81a648",
   "metadata": {},
   "outputs": [],
   "source": [
    "df.info()"
   ]
  },
  {
   "cell_type": "markdown",
   "id": "6062987a",
   "metadata": {},
   "source": [
    "The first conclusion can be summarized as follow:\n",
    "- We have 100 473 entries.\n",
    "- There are no `Null` values, so we don't have to work on ways to replace values.\n",
    "- The class to predict is represented under the `Fake` columns.\n",
    "- We only have categorial variables in the form of `Event` and `Category`.\n",
    "- `Unnamed` and `UserId` are dataset artifact, not something useful for analysis (we can remove them)."
   ]
  },
  {
   "cell_type": "code",
   "execution_count": null,
   "id": "50743470",
   "metadata": {},
   "outputs": [],
   "source": [
    "df.drop(\"Unnamed: 0\", axis=1, inplace=True)\n",
    "df.drop(\"UserId\", axis=1, inplace=True)"
   ]
  },
  {
   "cell_type": "markdown",
   "id": "eb1f0d8d",
   "metadata": {},
   "source": [
    "Let's take some more look at our data."
   ]
  },
  {
   "cell_type": "code",
   "execution_count": null,
   "id": "7321d41b",
   "metadata": {},
   "outputs": [],
   "source": [
    "fig, axes = plt.subplots(nrows=1,ncols=3, figsize=(15,5))\n",
    "df['Fake'].value_counts().plot(ax = axes[0], subplots=True,  kind='bar', colormap=\"Pastel1\") \n",
    "df['Event'].value_counts().plot(ax = axes[1], subplots=True,  kind='bar')\n",
    "df['Category'].value_counts().plot(ax = axes[2], subplots=True,  kind='bar', colormap=\"Set2\")\n",
    "fig.suptitle('Fig 1: Distribution of column variables', fontsize=16)\n",
    "plt.show()"
   ]
  },
  {
   "cell_type": "code",
   "execution_count": null,
   "id": "0b931f50",
   "metadata": {},
   "outputs": [],
   "source": [
    "df_event = df.groupby(['Event', 'Fake'])['Event'].count().unstack('Fake').fillna(0).plot(kind='bar', ylabel=\"count\", title=\"(Fig2) Distribution of class per Event type\", stacked=True, figsize=(15, 5))"
   ]
  },
  {
   "cell_type": "code",
   "execution_count": null,
   "id": "e47e06fb",
   "metadata": {},
   "outputs": [],
   "source": [
    "df_category = df.groupby(['Category', 'Fake'])['Category'].count().unstack('Fake').fillna(0).plot(kind='bar', ylabel=\"count\", title=\"(Fig3) Distribution of class per Category type\", stacked=True, figsize=(15, 5))"
   ]
  },
  {
   "cell_type": "code",
   "execution_count": null,
   "id": "389909a3",
   "metadata": {},
   "outputs": [],
   "source": [
    "print(f\" `Not fake` represents {round(df['Fake'].value_counts()[0]/len(df) * 100,2)} % of the train dataset\")\n",
    "print(f\" `Fake`represents {round(df['Fake'].value_counts()[1]/len(df) * 100,2)} % of the train dataset\")"
   ]
  },
  {
   "cell_type": "markdown",
   "id": "96766060",
   "metadata": {},
   "source": [
    "Final conclusions:\n",
    "\n",
    "- Our data is imbalanced. We can see that the first plot in (Fig 1). Most of the entries are `Not Fake`. Therefore if we use this data as the base for our predictive models and analysis we might get a lot of errors and our algorithms will probably overfit since it will \"assume\" that most events are not Fake.\n",
    "- (Fig2) tells us that `click_add` and `send_Email` events are more likely to be `Fake`.\n",
    "- We are facing an [anomaly detection](https://www.semanticscholar.org/paper/Anomaly-detection%3A-A-survey-Chandola-Banerjee/71d1ac92ad36b62a04f32ed75a10ad3259a7218d) problem. In the following notebook we will see how we can tackle this problem."
   ]
  },
  {
   "cell_type": "code",
   "execution_count": null,
   "id": "344242f3",
   "metadata": {},
   "outputs": [],
   "source": []
  },
  {
   "cell_type": "code",
   "execution_count": null,
   "id": "e9b9288a",
   "metadata": {},
   "outputs": [],
   "source": []
  },
  {
   "cell_type": "code",
   "execution_count": null,
   "id": "7048267a",
   "metadata": {},
   "outputs": [],
   "source": []
  }
 ],
 "metadata": {
  "kernelspec": {
   "display_name": "Python [conda env:lbc] *",
   "language": "python",
   "name": "conda-env-lbc-py"
  },
  "language_info": {
   "codemirror_mode": {
    "name": "ipython",
    "version": 3
   },
   "file_extension": ".py",
   "mimetype": "text/x-python",
   "name": "python",
   "nbconvert_exporter": "python",
   "pygments_lexer": "ipython3",
   "version": "3.10.0"
  }
 },
 "nbformat": 4,
 "nbformat_minor": 5
}
