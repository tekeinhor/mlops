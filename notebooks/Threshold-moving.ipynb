{
 "cells": [
  {
   "cell_type": "markdown",
   "id": "a2e090a2",
   "metadata": {},
   "source": [
    "# Analysis, Modeling, Threshold-moving\n",
    "\n",
    "In our previous notebook \"EDA\", we have noticed that our data was imbalanced. Our objective will be to correctly classify the minority class of `Fake` actions.\n",
    "\n",
    "To predict a class label, models use a threshold, such as 0.5, where all values equal or greater than the threshold are mapped to one class and all other values are mapped to another class.\n",
    "\n",
    "For classification problems that have a severe class imbalance, the default threshold can result in poor performance. As such, a simple and straightforward approach to improving the performance of a classifier that predicts probabilities on an imbalanced classification problem is to tune the threshold used to map probabilities to class labels.\n",
    "\n",
    "This notebook tries to look for a tuning mechanism for the optimal threshold.\n",
    "\n",
    "What we are going to do:\n",
    "- Load data\n",
    "- Featurize the data\n",
    "- Apply different models to see how it goes\n",
    "- Find threshold that maximizes our prediction"
   ]
  },
  {
   "cell_type": "markdown",
   "id": "460f5096",
   "metadata": {},
   "source": [
    "## Load data"
   ]
  },
  {
   "cell_type": "code",
   "execution_count": 3,
   "id": "61180e0f",
   "metadata": {},
   "outputs": [],
   "source": [
    "import pandas as pd\n",
    "from IPython.display import display"
   ]
  },
  {
   "cell_type": "code",
   "execution_count": 4,
   "id": "061f8d2b",
   "metadata": {},
   "outputs": [
    {
     "name": "stdout",
     "output_type": "stream",
     "text": [
      "Train size: 100473, Test size: 2998\n"
     ]
    },
    {
     "data": {
      "text/html": [
       "<div>\n",
       "<style scoped>\n",
       "    .dataframe tbody tr th:only-of-type {\n",
       "        vertical-align: middle;\n",
       "    }\n",
       "\n",
       "    .dataframe tbody tr th {\n",
       "        vertical-align: top;\n",
       "    }\n",
       "\n",
       "    .dataframe thead th {\n",
       "        text-align: right;\n",
       "    }\n",
       "</style>\n",
       "<table border=\"1\" class=\"dataframe\">\n",
       "  <thead>\n",
       "    <tr style=\"text-align: right;\">\n",
       "      <th></th>\n",
       "      <th>Event</th>\n",
       "      <th>Category</th>\n",
       "      <th>Fake</th>\n",
       "    </tr>\n",
       "  </thead>\n",
       "  <tbody>\n",
       "    <tr>\n",
       "      <th>0</th>\n",
       "      <td>click_carrousel</td>\n",
       "      <td>Phone</td>\n",
       "      <td>0</td>\n",
       "    </tr>\n",
       "    <tr>\n",
       "      <th>1</th>\n",
       "      <td>send_sms</td>\n",
       "      <td>Motor</td>\n",
       "      <td>0</td>\n",
       "    </tr>\n",
       "    <tr>\n",
       "      <th>2</th>\n",
       "      <td>send_email</td>\n",
       "      <td>Jobs</td>\n",
       "      <td>0</td>\n",
       "    </tr>\n",
       "    <tr>\n",
       "      <th>3</th>\n",
       "      <td>send_sms</td>\n",
       "      <td>Jobs</td>\n",
       "      <td>0</td>\n",
       "    </tr>\n",
       "    <tr>\n",
       "      <th>4</th>\n",
       "      <td>click_ad</td>\n",
       "      <td>Phone</td>\n",
       "      <td>0</td>\n",
       "    </tr>\n",
       "  </tbody>\n",
       "</table>\n",
       "</div>"
      ],
      "text/plain": [
       "             Event Category  Fake\n",
       "0  click_carrousel    Phone     0\n",
       "1         send_sms    Motor     0\n",
       "2       send_email     Jobs     0\n",
       "3         send_sms     Jobs     0\n",
       "4         click_ad    Phone     0"
      ]
     },
     "execution_count": 4,
     "metadata": {},
     "output_type": "execute_result"
    }
   ],
   "source": [
    "df = pd.read_csv(\"../data/fake_users.csv\")\n",
    "\n",
    "df_test = pd.read_csv(\"../data/fake_users_test.csv\")\n",
    "\n",
    "print(f\"Train size: {len(df)}, Test size: {len(df_test)}\")\n",
    "# Unnamed and UserId are dataset artifact, not something useful for analysis\n",
    "df.drop(\"Unnamed: 0\", axis=1, inplace=True)\n",
    "df.drop(\"UserId\", axis=1, inplace=True)\n",
    "\n",
    "df_test.drop(\"UserId\", axis=1, inplace=True)\n",
    "\n",
    "\n",
    "# A quick reminder of how the data looks like\n",
    "df.head()"
   ]
  },
  {
   "cell_type": "markdown",
   "id": "92cf9f45",
   "metadata": {},
   "source": [
    "## Featurize\n",
    "\n",
    "Our `Event` and `Category` columns hold nominal categorial data where there are no inherent order (in opposition to ordinal categorial data). These \"categories\" must be transformed into numbers first, before you can apply the learning algorithm on them.\n",
    "\n",
    "To achieve that there are different encoding techniques.\n",
    "\n",
    "- Label Encoding: each label is converted into an integer value based on conversion dictionnary\n",
    "- One Hot Encoding: each category is mapped with a binary variable containing either 0 or 1. Here, 0 represents the absence, and 1 represents the presence of that category.\n",
    "- Hash Encoding: each category is encoded using a hash function. It is a good solution when the cardinality of the category is too high.\n",
    "\n",
    "We will user one hot encoding, because the cardinality of our categories are rather low.\n"
   ]
  },
  {
   "cell_type": "code",
   "execution_count": 5,
   "id": "93f4da13",
   "metadata": {},
   "outputs": [
    {
     "data": {
      "text/html": [
       "<div>\n",
       "<style scoped>\n",
       "    .dataframe tbody tr th:only-of-type {\n",
       "        vertical-align: middle;\n",
       "    }\n",
       "\n",
       "    .dataframe tbody tr th {\n",
       "        vertical-align: top;\n",
       "    }\n",
       "\n",
       "    .dataframe thead th {\n",
       "        text-align: right;\n",
       "    }\n",
       "</style>\n",
       "<table border=\"1\" class=\"dataframe\">\n",
       "  <thead>\n",
       "    <tr style=\"text-align: right;\">\n",
       "      <th></th>\n",
       "      <th>Fake</th>\n",
       "      <th>Event_click_ad</th>\n",
       "      <th>Event_click_carrousel</th>\n",
       "      <th>Event_phone_call</th>\n",
       "      <th>Event_send_email</th>\n",
       "      <th>Event_send_sms</th>\n",
       "      <th>Category_Holidays</th>\n",
       "      <th>Category_Jobs</th>\n",
       "      <th>Category_Leisure</th>\n",
       "      <th>Category_Motor</th>\n",
       "      <th>Category_Phone</th>\n",
       "      <th>Category_Real_State</th>\n",
       "    </tr>\n",
       "  </thead>\n",
       "  <tbody>\n",
       "    <tr>\n",
       "      <th>0</th>\n",
       "      <td>0</td>\n",
       "      <td>0</td>\n",
       "      <td>1</td>\n",
       "      <td>0</td>\n",
       "      <td>0</td>\n",
       "      <td>0</td>\n",
       "      <td>0</td>\n",
       "      <td>0</td>\n",
       "      <td>0</td>\n",
       "      <td>0</td>\n",
       "      <td>1</td>\n",
       "      <td>0</td>\n",
       "    </tr>\n",
       "    <tr>\n",
       "      <th>1</th>\n",
       "      <td>0</td>\n",
       "      <td>0</td>\n",
       "      <td>0</td>\n",
       "      <td>0</td>\n",
       "      <td>0</td>\n",
       "      <td>1</td>\n",
       "      <td>0</td>\n",
       "      <td>0</td>\n",
       "      <td>0</td>\n",
       "      <td>1</td>\n",
       "      <td>0</td>\n",
       "      <td>0</td>\n",
       "    </tr>\n",
       "    <tr>\n",
       "      <th>2</th>\n",
       "      <td>0</td>\n",
       "      <td>0</td>\n",
       "      <td>0</td>\n",
       "      <td>0</td>\n",
       "      <td>1</td>\n",
       "      <td>0</td>\n",
       "      <td>0</td>\n",
       "      <td>1</td>\n",
       "      <td>0</td>\n",
       "      <td>0</td>\n",
       "      <td>0</td>\n",
       "      <td>0</td>\n",
       "    </tr>\n",
       "    <tr>\n",
       "      <th>3</th>\n",
       "      <td>0</td>\n",
       "      <td>0</td>\n",
       "      <td>0</td>\n",
       "      <td>0</td>\n",
       "      <td>0</td>\n",
       "      <td>1</td>\n",
       "      <td>0</td>\n",
       "      <td>1</td>\n",
       "      <td>0</td>\n",
       "      <td>0</td>\n",
       "      <td>0</td>\n",
       "      <td>0</td>\n",
       "    </tr>\n",
       "    <tr>\n",
       "      <th>4</th>\n",
       "      <td>0</td>\n",
       "      <td>1</td>\n",
       "      <td>0</td>\n",
       "      <td>0</td>\n",
       "      <td>0</td>\n",
       "      <td>0</td>\n",
       "      <td>0</td>\n",
       "      <td>0</td>\n",
       "      <td>0</td>\n",
       "      <td>0</td>\n",
       "      <td>1</td>\n",
       "      <td>0</td>\n",
       "    </tr>\n",
       "  </tbody>\n",
       "</table>\n",
       "</div>"
      ],
      "text/plain": [
       "   Fake  Event_click_ad  Event_click_carrousel  Event_phone_call  \\\n",
       "0     0               0                      1                 0   \n",
       "1     0               0                      0                 0   \n",
       "2     0               0                      0                 0   \n",
       "3     0               0                      0                 0   \n",
       "4     0               1                      0                 0   \n",
       "\n",
       "   Event_send_email  Event_send_sms  Category_Holidays  Category_Jobs  \\\n",
       "0                 0               0                  0              0   \n",
       "1                 0               1                  0              0   \n",
       "2                 1               0                  0              1   \n",
       "3                 0               1                  0              1   \n",
       "4                 0               0                  0              0   \n",
       "\n",
       "   Category_Leisure  Category_Motor  Category_Phone  Category_Real_State  \n",
       "0                 0               0               1                    0  \n",
       "1                 0               1               0                    0  \n",
       "2                 0               0               0                    0  \n",
       "3                 0               0               0                    0  \n",
       "4                 0               0               1                    0  "
      ]
     },
     "execution_count": 5,
     "metadata": {},
     "output_type": "execute_result"
    }
   ],
   "source": [
    "df = pd.get_dummies(df, columns=['Event','Category'], prefix = ['Event', 'Category'])\n",
    "df_test = pd.get_dummies(df_test, columns=['Event','Category'], prefix = ['Event', 'Category'])\n",
    "\n",
    "df.head()"
   ]
  },
  {
   "cell_type": "code",
   "execution_count": 6,
   "id": "454859ce",
   "metadata": {},
   "outputs": [
    {
     "name": "stdout",
     "output_type": "stream",
     "text": [
      "Train: X: (100473, 11), y (100473,)\n",
      "Test: X: (2998, 11), y (2998,)\n"
     ]
    }
   ],
   "source": [
    "from sklearn.model_selection import train_test_split\n",
    "#X_train, X_validation, y_train, y_validation = train_test_split(df.iloc[:,1:], df[\"Fake\"], test_size=0.2, random_state= 42,stratify=df.Fake)\n",
    "\n",
    "X_train = df.iloc[:,1:]\n",
    "y_train = df[\"Fake\"]\n",
    "\n",
    "X_test = df_test.iloc[:,1:]\n",
    "y_test = df_test[\"Fake\"]\n",
    "\n",
    "print(f\"Train: X: {X_train.shape}, y {y_train.shape}\")\n",
    "print(f\"Test: X: {X_test.shape}, y {y_test.shape}\")"
   ]
  },
  {
   "cell_type": "markdown",
   "id": "3e4cc01c",
   "metadata": {},
   "source": [
    "## Apply different models\n",
    "\n",
    "Let's see how different models perfom on our data. Because the data is imbalanced we will use a confusion matrix as our metrics. Please see this page for more info about [confusion matrix metrics](https://en.wikipedia.org/wiki/Confusion_matrix)."
   ]
  },
  {
   "cell_type": "code",
   "execution_count": 7,
   "id": "6c41eec5",
   "metadata": {},
   "outputs": [],
   "source": [
    "from sklearn.metrics import recall_score, precision_score, f1_score, accuracy_score,confusion_matrix\n",
    "from sklearn.model_selection import GridSearchCV, KFold, StratifiedKFold, cross_val_score, cross_val_predict\n",
    "\n",
    "\n",
    "def conf_matrix(y,pred):\n",
    "    ((tn, fp), (fn, tp)) = confusion_matrix(y, pred)\n",
    "    ((tnr,fpr),(fnr,tpr))= confusion_matrix(y, pred, \n",
    "            normalize='true')\n",
    "    print(f\"Precision: {precision_score(y, pred):.2f}, Recall: {recall_score(y, pred):.2f}, F1: {f1_score(y, pred):.2f}\")\n",
    "\n",
    "\n",
    "    return pd.DataFrame([[f'TN = {tn} (TNR = {tnr:1.2%})', \n",
    "                                f'FP = {fp} (FPR = {fpr:1.2%})'], \n",
    "                         [f'FN = {fn} (FNR = {fnr:1.2%})', \n",
    "                                f'TP = {tp} (TPR = {tpr:1.2%})']],\n",
    "            index=['True 0 (Not Fake)', 'True 1 (Fake)'], \n",
    "            columns=['Pred 0 (Not Fake)', \n",
    "                            'Pred 1 (Fake)'])\n",
    "\n",
    "\n",
    "'''Test options and evaluation metric'''\n",
    "def compare_models(X_train, y_train, models, scoring = \"f1\", num_folds = 5):\n",
    "\n",
    "    for name, model in models.items():\n",
    "        kfold = StratifiedKFold(n_splits = num_folds)\n",
    "        \n",
    "        y_pred = cross_val_predict(model, X_train, y_train, cv=kfold)\n",
    "        \n",
    "        cv_results = cross_val_score(model, X_train, y_train, cv = kfold, scoring = scoring, n_jobs = -1)\n",
    "        \n",
    "        models[name] = model\n",
    "        print(name)\n",
    "        display(conf_matrix(y_train, y_pred))\n",
    "\n",
    "from sklearn.metrics import recall_score, precision_score, f1_score, accuracy_score,confusion_matrix\n",
    "from sklearn.model_selection import GridSearchCV, KFold, StratifiedKFold, cross_val_score, cross_val_predict\n",
    "\n",
    "'''Test options and evaluation metric'''\n",
    "def compare_models(X_train, y_train, models, scoring = \"f1\", num_folds = 5):\n",
    "\n",
    "    for name, model in models.items():\n",
    "        kfold = StratifiedKFold(n_splits = num_folds)\n",
    "        \n",
    "        y_pred = cross_val_predict(model, X_train, y_train, cv=kfold)\n",
    "        \n",
    "        cv_results = cross_val_score(model, X_train, y_train, cv = kfold, scoring = scoring, n_jobs = -1)\n",
    "        \n",
    "        models[name] = model\n",
    "        print(name)\n",
    "        display(conf_matrix(y_train, y_pred))"
   ]
  },
  {
   "cell_type": "code",
   "execution_count": null,
   "id": "b9e39d71",
   "metadata": {},
   "outputs": [],
   "source": []
  },
  {
   "cell_type": "code",
   "execution_count": 8,
   "id": "70027f76",
   "metadata": {},
   "outputs": [
    {
     "name": "stdout",
     "output_type": "stream",
     "text": [
      "DUM\n",
      "Precision: 0.00, Recall: 0.00, F1: 0.00\n"
     ]
    },
    {
     "name": "stderr",
     "output_type": "stream",
     "text": [
      "/Users/tekeinhor/opt/miniconda3/envs/ntb/lib/python3.10/site-packages/sklearn/metrics/_classification.py:1318: UndefinedMetricWarning: Precision is ill-defined and being set to 0.0 due to no predicted samples. Use `zero_division` parameter to control this behavior.\n",
      "  _warn_prf(average, modifier, msg_start, len(result))\n"
     ]
    },
    {
     "data": {
      "text/html": [
       "<div>\n",
       "<style scoped>\n",
       "    .dataframe tbody tr th:only-of-type {\n",
       "        vertical-align: middle;\n",
       "    }\n",
       "\n",
       "    .dataframe tbody tr th {\n",
       "        vertical-align: top;\n",
       "    }\n",
       "\n",
       "    .dataframe thead th {\n",
       "        text-align: right;\n",
       "    }\n",
       "</style>\n",
       "<table border=\"1\" class=\"dataframe\">\n",
       "  <thead>\n",
       "    <tr style=\"text-align: right;\">\n",
       "      <th></th>\n",
       "      <th>Pred 0 (Not Fake)</th>\n",
       "      <th>Pred 1 (Fake)</th>\n",
       "    </tr>\n",
       "  </thead>\n",
       "  <tbody>\n",
       "    <tr>\n",
       "      <th>True 0 (Not Fake)</th>\n",
       "      <td>TN = 90114 (TNR = 100.00%)</td>\n",
       "      <td>FP = 0 (FPR = 0.00%)</td>\n",
       "    </tr>\n",
       "    <tr>\n",
       "      <th>True 1 (Fake)</th>\n",
       "      <td>FN = 10359 (FNR = 100.00%)</td>\n",
       "      <td>TP = 0 (TPR = 0.00%)</td>\n",
       "    </tr>\n",
       "  </tbody>\n",
       "</table>\n",
       "</div>"
      ],
      "text/plain": [
       "                            Pred 0 (Not Fake)         Pred 1 (Fake)\n",
       "True 0 (Not Fake)  TN = 90114 (TNR = 100.00%)  FP = 0 (FPR = 0.00%)\n",
       "True 1 (Fake)      FN = 10359 (FNR = 100.00%)  TP = 0 (TPR = 0.00%)"
      ]
     },
     "metadata": {},
     "output_type": "display_data"
    },
    {
     "name": "stdout",
     "output_type": "stream",
     "text": [
      "LR\n",
      "Precision: 0.00, Recall: 0.00, F1: 0.00\n"
     ]
    },
    {
     "name": "stderr",
     "output_type": "stream",
     "text": [
      "/Users/tekeinhor/opt/miniconda3/envs/ntb/lib/python3.10/site-packages/sklearn/metrics/_classification.py:1318: UndefinedMetricWarning: Precision is ill-defined and being set to 0.0 due to no predicted samples. Use `zero_division` parameter to control this behavior.\n",
      "  _warn_prf(average, modifier, msg_start, len(result))\n"
     ]
    },
    {
     "data": {
      "text/html": [
       "<div>\n",
       "<style scoped>\n",
       "    .dataframe tbody tr th:only-of-type {\n",
       "        vertical-align: middle;\n",
       "    }\n",
       "\n",
       "    .dataframe tbody tr th {\n",
       "        vertical-align: top;\n",
       "    }\n",
       "\n",
       "    .dataframe thead th {\n",
       "        text-align: right;\n",
       "    }\n",
       "</style>\n",
       "<table border=\"1\" class=\"dataframe\">\n",
       "  <thead>\n",
       "    <tr style=\"text-align: right;\">\n",
       "      <th></th>\n",
       "      <th>Pred 0 (Not Fake)</th>\n",
       "      <th>Pred 1 (Fake)</th>\n",
       "    </tr>\n",
       "  </thead>\n",
       "  <tbody>\n",
       "    <tr>\n",
       "      <th>True 0 (Not Fake)</th>\n",
       "      <td>TN = 90114 (TNR = 100.00%)</td>\n",
       "      <td>FP = 0 (FPR = 0.00%)</td>\n",
       "    </tr>\n",
       "    <tr>\n",
       "      <th>True 1 (Fake)</th>\n",
       "      <td>FN = 10359 (FNR = 100.00%)</td>\n",
       "      <td>TP = 0 (TPR = 0.00%)</td>\n",
       "    </tr>\n",
       "  </tbody>\n",
       "</table>\n",
       "</div>"
      ],
      "text/plain": [
       "                            Pred 0 (Not Fake)         Pred 1 (Fake)\n",
       "True 0 (Not Fake)  TN = 90114 (TNR = 100.00%)  FP = 0 (FPR = 0.00%)\n",
       "True 1 (Fake)      FN = 10359 (FNR = 100.00%)  TP = 0 (TPR = 0.00%)"
      ]
     },
     "metadata": {},
     "output_type": "display_data"
    },
    {
     "name": "stdout",
     "output_type": "stream",
     "text": [
      "KNN\n",
      "Precision: 0.18, Recall: 0.16, F1: 0.17\n"
     ]
    },
    {
     "data": {
      "text/html": [
       "<div>\n",
       "<style scoped>\n",
       "    .dataframe tbody tr th:only-of-type {\n",
       "        vertical-align: middle;\n",
       "    }\n",
       "\n",
       "    .dataframe tbody tr th {\n",
       "        vertical-align: top;\n",
       "    }\n",
       "\n",
       "    .dataframe thead th {\n",
       "        text-align: right;\n",
       "    }\n",
       "</style>\n",
       "<table border=\"1\" class=\"dataframe\">\n",
       "  <thead>\n",
       "    <tr style=\"text-align: right;\">\n",
       "      <th></th>\n",
       "      <th>Pred 0 (Not Fake)</th>\n",
       "      <th>Pred 1 (Fake)</th>\n",
       "    </tr>\n",
       "  </thead>\n",
       "  <tbody>\n",
       "    <tr>\n",
       "      <th>True 0 (Not Fake)</th>\n",
       "      <td>TN = 82829 (TNR = 91.92%)</td>\n",
       "      <td>FP = 7285 (FPR = 8.08%)</td>\n",
       "    </tr>\n",
       "    <tr>\n",
       "      <th>True 1 (Fake)</th>\n",
       "      <td>FN = 8709 (FNR = 84.07%)</td>\n",
       "      <td>TP = 1650 (TPR = 15.93%)</td>\n",
       "    </tr>\n",
       "  </tbody>\n",
       "</table>\n",
       "</div>"
      ],
      "text/plain": [
       "                           Pred 0 (Not Fake)             Pred 1 (Fake)\n",
       "True 0 (Not Fake)  TN = 82829 (TNR = 91.92%)   FP = 7285 (FPR = 8.08%)\n",
       "True 1 (Fake)       FN = 8709 (FNR = 84.07%)  TP = 1650 (TPR = 15.93%)"
      ]
     },
     "metadata": {},
     "output_type": "display_data"
    },
    {
     "name": "stdout",
     "output_type": "stream",
     "text": [
      "DT\n",
      "Precision: 0.00, Recall: 0.00, F1: 0.00\n"
     ]
    },
    {
     "name": "stderr",
     "output_type": "stream",
     "text": [
      "/Users/tekeinhor/opt/miniconda3/envs/ntb/lib/python3.10/site-packages/sklearn/metrics/_classification.py:1318: UndefinedMetricWarning: Precision is ill-defined and being set to 0.0 due to no predicted samples. Use `zero_division` parameter to control this behavior.\n",
      "  _warn_prf(average, modifier, msg_start, len(result))\n"
     ]
    },
    {
     "data": {
      "text/html": [
       "<div>\n",
       "<style scoped>\n",
       "    .dataframe tbody tr th:only-of-type {\n",
       "        vertical-align: middle;\n",
       "    }\n",
       "\n",
       "    .dataframe tbody tr th {\n",
       "        vertical-align: top;\n",
       "    }\n",
       "\n",
       "    .dataframe thead th {\n",
       "        text-align: right;\n",
       "    }\n",
       "</style>\n",
       "<table border=\"1\" class=\"dataframe\">\n",
       "  <thead>\n",
       "    <tr style=\"text-align: right;\">\n",
       "      <th></th>\n",
       "      <th>Pred 0 (Not Fake)</th>\n",
       "      <th>Pred 1 (Fake)</th>\n",
       "    </tr>\n",
       "  </thead>\n",
       "  <tbody>\n",
       "    <tr>\n",
       "      <th>True 0 (Not Fake)</th>\n",
       "      <td>TN = 90114 (TNR = 100.00%)</td>\n",
       "      <td>FP = 0 (FPR = 0.00%)</td>\n",
       "    </tr>\n",
       "    <tr>\n",
       "      <th>True 1 (Fake)</th>\n",
       "      <td>FN = 10359 (FNR = 100.00%)</td>\n",
       "      <td>TP = 0 (TPR = 0.00%)</td>\n",
       "    </tr>\n",
       "  </tbody>\n",
       "</table>\n",
       "</div>"
      ],
      "text/plain": [
       "                            Pred 0 (Not Fake)         Pred 1 (Fake)\n",
       "True 0 (Not Fake)  TN = 90114 (TNR = 100.00%)  FP = 0 (FPR = 0.00%)\n",
       "True 1 (Fake)      FN = 10359 (FNR = 100.00%)  TP = 0 (TPR = 0.00%)"
      ]
     },
     "metadata": {},
     "output_type": "display_data"
    }
   ],
   "source": [
    "from sklearn.linear_model import LogisticRegression\n",
    "from sklearn.dummy import DummyClassifier\n",
    "from sklearn.neighbors import KNeighborsClassifier\n",
    "from sklearn.tree import DecisionTreeClassifier\n",
    "\n",
    "models = {'DUM' : DummyClassifier(),\n",
    "          'LR' :LogisticRegression(solver='lbfgs') ,\n",
    "          'KNN' : KNeighborsClassifier(),\n",
    "          'DT': DecisionTreeClassifier(),\n",
    "         }\n",
    "\n",
    "compare_models(X_train, y_train, models)"
   ]
  },
  {
   "cell_type": "markdown",
   "id": "70b15d6f",
   "metadata": {},
   "source": [
    "## Selecting KNN and rock with it\n",
    "\n",
    "Our cross-validation indicates that a KNN (k-nearest neighbors classifier) perfoms a little bit better than the others. So let's choose it as a base classifier."
   ]
  },
  {
   "cell_type": "code",
   "execution_count": 8,
   "id": "dd1a0730",
   "metadata": {},
   "outputs": [
    {
     "name": "stdout",
     "output_type": "stream",
     "text": [
      "Fitting 5 folds for each of 24 candidates, totalling 120 fits\n",
      "KNN best params:{'algorithm': 'auto', 'n_neighbors': 3, 'weights': 'uniform'} & best_score:0.199 / KNeighborsClassifier(n_neighbors=3)\n"
     ]
    }
   ],
   "source": [
    "from sklearn.model_selection import GridSearchCV\n",
    "\n",
    "knears_params = {\"n_neighbors\": [2, 3, 4, 5], 'algorithm': ['auto', 'ball_tree', 'kd_tree'], \"weights\": ['uniform', 'distance']}\n",
    "model =  KNeighborsClassifier()\n",
    "\n",
    "grid_search = GridSearchCV(estimator = model, param_grid = knears_params, cv = 5, verbose = 1,\n",
    "                         scoring = \"f1\", n_jobs = -1)\n",
    "grid_search.fit(X_train, y_train)\n",
    "print(f\"KNN best params:{grid_search.best_params_} & best_score:{grid_search.best_score_:0.3f} / {grid_search.best_estimator_}\")"
   ]
  },
  {
   "cell_type": "markdown",
   "id": "ef228a8a",
   "metadata": {},
   "source": [
    "## Threshold moving\n",
    "\n",
    "Now let's think about threshold. Let us adjust the threshold for which we decide “Fake” label should be applied label, given a predicted probability. By default, this threshold is `0.5`. Beforehands, let's train a KNN with the best estimators of our gridsearch."
   ]
  },
  {
   "cell_type": "code",
   "execution_count": null,
   "id": "2d551f8b",
   "metadata": {},
   "outputs": [],
   "source": [
    "model =  KNeighborsClassifier(n_neighbors=3)\n",
    "model.fit(X_train,y_train)"
   ]
  },
  {
   "cell_type": "code",
   "execution_count": null,
   "id": "0450ceb4",
   "metadata": {},
   "outputs": [],
   "source": [
    "y_pred=model.predict(X_test)\n",
    "conf_matrix(y_test,y_pred)"
   ]
  },
  {
   "cell_type": "markdown",
   "id": "8256a3f5",
   "metadata": {},
   "source": [
    "We want to improve the Recall of class 1 (the TPR) to reduce our bot threat (reduce false negatives).\n",
    "\n",
    "To do this, we can reduce the threshold for which we label “Class 1” (`Fake`) when we predict a probability above the threshold. This way we say “Class 1” (`Fake`) for a wider range of predicted probabilities. Such strategies are known as threshold-moving."
   ]
  },
  {
   "cell_type": "markdown",
   "id": "62cc9557",
   "metadata": {},
   "source": [
    "Now let's try to selection our threshold in order to maximise our f1-score (to have a balance between precision and recall)"
   ]
  },
  {
   "cell_type": "code",
   "execution_count": null,
   "id": "3901139d",
   "metadata": {},
   "outputs": [],
   "source": [
    "from numpy import argmax\n",
    "precision, recall, thresholds_ = precision_recall_curve(y_test, predtst)\n",
    "\n",
    "fscore = (2 * precision * recall) / (precision + recall)\n",
    "# locate the index of the largest f-score\n",
    "ix = argmax(fscore)\n",
    "print('Best Threshold=%f, F-Score=%.3f' % (thresholds_[ix], fscore[ix]))"
   ]
  },
  {
   "cell_type": "markdown",
   "id": "4e24d60a",
   "metadata": {},
   "source": [
    "With that `Threshold=0.333333`, our confusion matrix looks like below."
   ]
  },
  {
   "cell_type": "code",
   "execution_count": null,
   "id": "cd7a22f6",
   "metadata": {},
   "outputs": [],
   "source": [
    "import numpy as np\n",
    "y_tuned_thresh = np.where(predtst >= 0.333, 1, 0)\n",
    "conf_matrix(y_test, y_tuned_thresh)"
   ]
  },
  {
   "cell_type": "code",
   "execution_count": null,
   "id": "595bdb5a",
   "metadata": {},
   "outputs": [],
   "source": [
    "from matplotlib import pyplot\n",
    "pyplot.scatter(recall[ix], precision[ix], marker='o', color='black', label='Best')\n",
    "pyplot.plot(recall, precision, marker='.', label='Knn')\n",
    "pyplot.xlabel('Recall')\n",
    "pyplot.ylabel('Precision')\n",
    "pyplot.legend()\n",
    "pyplot.show()"
   ]
  },
  {
   "cell_type": "markdown",
   "id": "ad806b73",
   "metadata": {},
   "source": [
    "However we need to find a balance since the number of False Positives (true legitimate events rejected as Fake) inevitably increases as we adjust the threshold that we apply to the model’s probability prediction.\n",
    "\n",
    "The green line represents the threshold we've chosen.\n",
    "\n",
    "It is worth noting that, even though I have chosen a threshold, ultimately it depends solely on the cost to the business of false negatives vs. false positives."
   ]
  },
  {
   "cell_type": "code",
   "execution_count": null,
   "id": "42b4f46c",
   "metadata": {},
   "outputs": [],
   "source": [
    "from sklearn.metrics import roc_curve,precision_recall_curve\n",
    "\n",
    "predtst=model.predict_proba(X_test)[:,1]\n",
    "\n",
    "fpr, tpr, thresholds = roc_curve(y_test, predtst)\n",
    "\n",
    "dfplot=pd.DataFrame({'Threshold':thresholds, \n",
    "        'False Positive Rate':fpr, \n",
    "        'False Negative Rate': 1.-tpr})\n",
    "\n",
    "ax=dfplot.plot(x='Threshold', y=['False Positive Rate',\n",
    "        'False Negative Rate'], figsize=(10,6))\n",
    "ax.plot([thresholds_[ix],thresholds_[ix]],[0,1])"
   ]
  }
 ],
 "metadata": {
  "kernelspec": {
   "display_name": "ntb",
   "language": "python",
   "name": "ntb"
  },
  "language_info": {
   "codemirror_mode": {
    "name": "ipython",
    "version": 3
   },
   "file_extension": ".py",
   "mimetype": "text/x-python",
   "name": "python",
   "nbconvert_exporter": "python",
   "pygments_lexer": "ipython3",
   "version": "3.10.0"
  }
 },
 "nbformat": 4,
 "nbformat_minor": 5
}
