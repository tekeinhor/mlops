{
 "cells": [
  {
   "cell_type": "markdown",
   "id": "ce29d3fb",
   "metadata": {},
   "source": [
    "# Experimentation - Sampling"
   ]
  },
  {
   "cell_type": "markdown",
   "id": "8f575ee8",
   "metadata": {},
   "source": [
    "In our previous notebook \"EDA\", we have noticed that our data was imbalanced. Therefore, we were confronted to an anomaly dectection problem. \n",
    "Our objective will be to correctly classify the minority class of `Fake`events.\n",
    "\n",
    "What we are going to do:\n",
    "- Feature selection\n",
    "- This imbalance can be reduced by under-sampling the majority class `Not fake`, by making it close to that of the `Fake` class.\n",
    "- Model Training\n",
    "- Model Evaluation\n",
    "\n",
    "Time for experimentation\n",
    "There are no \"Null\" values, so we don't have to work on ways to replace values. "
   ]
  },
  {
   "cell_type": "code",
   "execution_count": 1,
   "id": "c093574a",
   "metadata": {},
   "outputs": [],
   "source": [
    "import pandas as pd\n",
    "import seaborn as sns\n",
    "import matplotlib.pyplot as plt\n",
    "import numpy as np\n",
    "from sklearn.model_selection import train_test_split"
   ]
  },
  {
   "cell_type": "code",
   "execution_count": 2,
   "id": "01bce3c3",
   "metadata": {},
   "outputs": [
    {
     "data": {
      "text/html": [
       "<div>\n",
       "<style scoped>\n",
       "    .dataframe tbody tr th:only-of-type {\n",
       "        vertical-align: middle;\n",
       "    }\n",
       "\n",
       "    .dataframe tbody tr th {\n",
       "        vertical-align: top;\n",
       "    }\n",
       "\n",
       "    .dataframe thead th {\n",
       "        text-align: right;\n",
       "    }\n",
       "</style>\n",
       "<table border=\"1\" class=\"dataframe\">\n",
       "  <thead>\n",
       "    <tr style=\"text-align: right;\">\n",
       "      <th></th>\n",
       "      <th>Event</th>\n",
       "      <th>Category</th>\n",
       "      <th>Fake</th>\n",
       "    </tr>\n",
       "  </thead>\n",
       "  <tbody>\n",
       "    <tr>\n",
       "      <th>0</th>\n",
       "      <td>click_carrousel</td>\n",
       "      <td>Phone</td>\n",
       "      <td>0</td>\n",
       "    </tr>\n",
       "    <tr>\n",
       "      <th>1</th>\n",
       "      <td>send_sms</td>\n",
       "      <td>Motor</td>\n",
       "      <td>0</td>\n",
       "    </tr>\n",
       "    <tr>\n",
       "      <th>2</th>\n",
       "      <td>send_email</td>\n",
       "      <td>Jobs</td>\n",
       "      <td>0</td>\n",
       "    </tr>\n",
       "    <tr>\n",
       "      <th>3</th>\n",
       "      <td>send_sms</td>\n",
       "      <td>Jobs</td>\n",
       "      <td>0</td>\n",
       "    </tr>\n",
       "    <tr>\n",
       "      <th>4</th>\n",
       "      <td>click_ad</td>\n",
       "      <td>Phone</td>\n",
       "      <td>0</td>\n",
       "    </tr>\n",
       "  </tbody>\n",
       "</table>\n",
       "</div>"
      ],
      "text/plain": [
       "             Event Category  Fake\n",
       "0  click_carrousel    Phone     0\n",
       "1         send_sms    Motor     0\n",
       "2       send_email     Jobs     0\n",
       "3         send_sms     Jobs     0\n",
       "4         click_ad    Phone     0"
      ]
     },
     "execution_count": 2,
     "metadata": {},
     "output_type": "execute_result"
    }
   ],
   "source": [
    "df = pd.read_csv(\"../data/fake_users.csv\")\n",
    "\n",
    "# Unnamed and UserId are dataset artifact, not something useful for analysis\n",
    "df.drop(\"Unnamed: 0\", axis=1, inplace=True)\n",
    "df.drop(\"UserId\", axis=1, inplace=True)\n",
    "\n",
    "# let's make a copy of our orignal dataset\n",
    "df_feat = df.copy()\n",
    "\n",
    "# A quick reminder of how the data looks like\n",
    "df_feat.head()"
   ]
  },
  {
   "cell_type": "markdown",
   "id": "8a59d031",
   "metadata": {},
   "source": [
    "# Featurize\n",
    "\n",
    "Our `Event` and `Category` columns hold nominal categorial data where there are no inherent order (in opposition to ordinal categorial data). These \"categories\" must be transformed into numbers first, before you can apply the learning algorithm on them.\n",
    "\n",
    "To achieve that there are different encoding techniques.\n",
    "- Label Encoding: each label is converted into an integer value based on conversion dictionnary \n",
    "- One Hot Encoding: each category is mapped with a binary variable containing either 0 or 1. Here, 0 represents the absence, and 1 represents the presence of that category.\n",
    "- Hash Encoding: each category is encoded using a hash function. It is a good solution when the cardinality of the category is too high.  \n",
    "\n",
    "We will user one hot encoding, because the cardinality of our categories are rather low."
   ]
  },
  {
   "cell_type": "code",
   "execution_count": 3,
   "id": "2bd70908",
   "metadata": {},
   "outputs": [
    {
     "data": {
      "text/html": [
       "<div>\n",
       "<style scoped>\n",
       "    .dataframe tbody tr th:only-of-type {\n",
       "        vertical-align: middle;\n",
       "    }\n",
       "\n",
       "    .dataframe tbody tr th {\n",
       "        vertical-align: top;\n",
       "    }\n",
       "\n",
       "    .dataframe thead th {\n",
       "        text-align: right;\n",
       "    }\n",
       "</style>\n",
       "<table border=\"1\" class=\"dataframe\">\n",
       "  <thead>\n",
       "    <tr style=\"text-align: right;\">\n",
       "      <th></th>\n",
       "      <th>Fake</th>\n",
       "      <th>Event_click_ad</th>\n",
       "      <th>Event_click_carrousel</th>\n",
       "      <th>Event_phone_call</th>\n",
       "      <th>Event_send_email</th>\n",
       "      <th>Event_send_sms</th>\n",
       "      <th>Category_Holidays</th>\n",
       "      <th>Category_Jobs</th>\n",
       "      <th>Category_Leisure</th>\n",
       "      <th>Category_Motor</th>\n",
       "      <th>Category_Phone</th>\n",
       "      <th>Category_Real_State</th>\n",
       "    </tr>\n",
       "  </thead>\n",
       "  <tbody>\n",
       "    <tr>\n",
       "      <th>0</th>\n",
       "      <td>0</td>\n",
       "      <td>0</td>\n",
       "      <td>1</td>\n",
       "      <td>0</td>\n",
       "      <td>0</td>\n",
       "      <td>0</td>\n",
       "      <td>0</td>\n",
       "      <td>0</td>\n",
       "      <td>0</td>\n",
       "      <td>0</td>\n",
       "      <td>1</td>\n",
       "      <td>0</td>\n",
       "    </tr>\n",
       "    <tr>\n",
       "      <th>1</th>\n",
       "      <td>0</td>\n",
       "      <td>0</td>\n",
       "      <td>0</td>\n",
       "      <td>0</td>\n",
       "      <td>0</td>\n",
       "      <td>1</td>\n",
       "      <td>0</td>\n",
       "      <td>0</td>\n",
       "      <td>0</td>\n",
       "      <td>1</td>\n",
       "      <td>0</td>\n",
       "      <td>0</td>\n",
       "    </tr>\n",
       "    <tr>\n",
       "      <th>2</th>\n",
       "      <td>0</td>\n",
       "      <td>0</td>\n",
       "      <td>0</td>\n",
       "      <td>0</td>\n",
       "      <td>1</td>\n",
       "      <td>0</td>\n",
       "      <td>0</td>\n",
       "      <td>1</td>\n",
       "      <td>0</td>\n",
       "      <td>0</td>\n",
       "      <td>0</td>\n",
       "      <td>0</td>\n",
       "    </tr>\n",
       "    <tr>\n",
       "      <th>3</th>\n",
       "      <td>0</td>\n",
       "      <td>0</td>\n",
       "      <td>0</td>\n",
       "      <td>0</td>\n",
       "      <td>0</td>\n",
       "      <td>1</td>\n",
       "      <td>0</td>\n",
       "      <td>1</td>\n",
       "      <td>0</td>\n",
       "      <td>0</td>\n",
       "      <td>0</td>\n",
       "      <td>0</td>\n",
       "    </tr>\n",
       "    <tr>\n",
       "      <th>4</th>\n",
       "      <td>0</td>\n",
       "      <td>1</td>\n",
       "      <td>0</td>\n",
       "      <td>0</td>\n",
       "      <td>0</td>\n",
       "      <td>0</td>\n",
       "      <td>0</td>\n",
       "      <td>0</td>\n",
       "      <td>0</td>\n",
       "      <td>0</td>\n",
       "      <td>1</td>\n",
       "      <td>0</td>\n",
       "    </tr>\n",
       "  </tbody>\n",
       "</table>\n",
       "</div>"
      ],
      "text/plain": [
       "   Fake  Event_click_ad  Event_click_carrousel  Event_phone_call  \\\n",
       "0     0               0                      1                 0   \n",
       "1     0               0                      0                 0   \n",
       "2     0               0                      0                 0   \n",
       "3     0               0                      0                 0   \n",
       "4     0               1                      0                 0   \n",
       "\n",
       "   Event_send_email  Event_send_sms  Category_Holidays  Category_Jobs  \\\n",
       "0                 0               0                  0              0   \n",
       "1                 0               1                  0              0   \n",
       "2                 1               0                  0              1   \n",
       "3                 0               1                  0              1   \n",
       "4                 0               0                  0              0   \n",
       "\n",
       "   Category_Leisure  Category_Motor  Category_Phone  Category_Real_State  \n",
       "0                 0               0               1                    0  \n",
       "1                 0               1               0                    0  \n",
       "2                 0               0               0                    0  \n",
       "3                 0               0               0                    0  \n",
       "4                 0               0               1                    0  "
      ]
     },
     "execution_count": 3,
     "metadata": {},
     "output_type": "execute_result"
    }
   ],
   "source": [
    "df_feat = pd.get_dummies(df_feat, columns=['Event'], prefix = ['Event'])\n",
    "df_feat = pd.get_dummies(df_feat, columns=['Category'], prefix = ['Category'])\n",
    "df_feat.head()"
   ]
  },
  {
   "cell_type": "code",
   "execution_count": 4,
   "id": "5c0d1f1d",
   "metadata": {},
   "outputs": [],
   "source": [
    "original_df_feat = df_feat.copy()"
   ]
  },
  {
   "cell_type": "markdown",
   "id": "dcbb7f46",
   "metadata": {},
   "source": [
    "Now let's separate our class from the rest of the data."
   ]
  },
  {
   "cell_type": "code",
   "execution_count": 5,
   "id": "978de06f",
   "metadata": {},
   "outputs": [],
   "source": [
    "y_train = df_feat.pop(\"Fake\")\n",
    "X_train = df_feat"
   ]
  },
  {
   "cell_type": "code",
   "execution_count": 6,
   "id": "f695dc6e",
   "metadata": {},
   "outputs": [
    {
     "name": "stdout",
     "output_type": "stream",
     "text": [
      "Dimension of training, X: (100473, 11), y: (100473,)\n"
     ]
    }
   ],
   "source": [
    "print(f'Dimension of training, X: {X_train.shape}, y: {y_train.shape}')"
   ]
  },
  {
   "cell_type": "code",
   "execution_count": null,
   "id": "6a16871a",
   "metadata": {},
   "outputs": [],
   "source": [
    "from sklearn.metrics import recall_score, precision_score, f1_score, accuracy_score\n",
    "from sklearn.model_selection import GridSearchCV, KFold, StratifiedKFold, cross_val_score, cross_val_predict\n",
    "from IPython.display import display\n",
    "\n",
    "\n",
    "'''Test options and evaluation metric'''\n",
    "def BasedLine(X_train, y_train, models, scoring = \"accuray\", num_folds = 10):\n",
    "\n",
    "    results, names = [], []\n",
    "\n",
    "    for name, model in models.items():\n",
    "        kfold = StratifiedKFold(n_splits = num_folds)\n",
    "        \n",
    "        y_pred = cross_val_predict(model, X_train, y_train, cv=kfold)\n",
    "        conf_mat = confusion_matrix(y_train, y_pred)\n",
    "        \n",
    "        cv_results = cross_val_score(model, X_train, y_train, cv = kfold, scoring = scoring, n_jobs = -1)\n",
    "\n",
    "\n",
    "        names.append(name)\n",
    "        print(name)\n",
    "        display(pd.DataFrame(conf_mat))\n",
    "    \n",
    "    return names, results"
   ]
  },
  {
   "cell_type": "markdown",
   "id": "4a1bb2c6",
   "metadata": {},
   "source": [
    "# Sampling\n",
    "\n",
    "There are several sampling techniques:\n",
    "- Undersampling: select a subset of examples from the majority class.\n",
    "- Oversampling: duplicate examples in the minority class or synthesize new examples from the examples in the minority class.\n",
    "- Combinations of Techniques: applying both undersampling and oversampling techniques together.\n",
    "\n",
    "Each technique has several implementation methods. In our case we will use Random Undersampling. It consists in selecting randomly a subest of the majority class."
   ]
  },
  {
   "cell_type": "code",
   "execution_count": 7,
   "id": "2801c852",
   "metadata": {},
   "outputs": [
    {
     "name": "stdout",
     "output_type": "stream",
     "text": [
      "10359\n"
     ]
    }
   ],
   "source": [
    "df_feat = original_df_feat.sample(frac=1)\n",
    "\n",
    "nb_fake = df_feat['Fake'].value_counts()[1]\n",
    "print(nb_fake)\n",
    "\n",
    "# amount of fraud classes 10359 rows.\n",
    "fake_df = df_feat.loc[df_feat['Fake'] == 1]\n",
    "not_fake_df = df_feat.loc[df_feat['Fake'] == 0][:nb_fake]\n",
    "\n",
    "normal_distributed_df = pd.concat([fake_df, not_fake_df], ignore_index=True)\n",
    "\n",
    "# Shuffle dataframe rows\n",
    "new_df = normal_distributed_df.sample(frac=1, random_state=42, ignore_index=True)\n"
   ]
  },
  {
   "cell_type": "code",
   "execution_count": 8,
   "id": "c896d5c0",
   "metadata": {},
   "outputs": [
    {
     "data": {
      "image/png": "[encoded data removed]",
      "text/plain": [
       "<Figure size 432x288 with 1 Axes>"
      ]
     },
     "metadata": {
      "needs_background": "light"
     },
     "output_type": "display_data"
    }
   ],
   "source": [
    "sns.countplot(x='Fake', data=new_df, palette=\"Pastel1\")\n",
    "plt.title('Equally Distributed Classes', fontsize=14)\n",
    "plt.show()"
   ]
  },
  {
   "cell_type": "code",
   "execution_count": 9,
   "id": "25b76609",
   "metadata": {},
   "outputs": [],
   "source": [
    "new_y_train = new_df.pop(\"Fake\")\n",
    "new_X_train = new_df"
   ]
  },
  {
   "cell_type": "code",
   "execution_count": 24,
   "id": "1d3a015f",
   "metadata": {},
   "outputs": [],
   "source": [
    "from sklearn.metrics import recall_score, precision_score, f1_score, accuracy_score,confusion_matrix\n",
    "from sklearn.model_selection import GridSearchCV, KFold, StratifiedKFold, cross_val_score, cross_val_predict\n",
    "\n",
    "def conf_matrix(y,pred):\n",
    "    ((tn, fp), (fn, tp)) = confusion_matrix(y, pred)\n",
    "    ((tnr,fpr),(fnr,tpr))= confusion_matrix(y, pred, \n",
    "            normalize='true')\n",
    "    print(f\"Precision: {precision_score(y, pred):.2f}, Recall: {recall_score(y, pred):.2f}, F1: {f1_score(y, pred):.2f}\")\n",
    "\n",
    "    return pd.DataFrame([[f'TN = {tn}', \n",
    "                                f'FP = {fp}'], \n",
    "                         [f'FN = {fn}', \n",
    "                                f'TP = {tp}']],\n",
    "            index=['True 0 (Not Fake)', 'True 1 (Fake)'], \n",
    "            columns=['Pred 0 (Not Fake)', \n",
    "                            'Pred 1 (Fake)'])\n",
    "\n",
    "\n",
    "'''Test options and evaluation metric'''\n",
    "def compare_models(X_train, y_train, models, scoring = \"f1\", num_folds = 5):\n",
    "\n",
    "    for name, model in models.items():\n",
    "        kfold = StratifiedKFold(n_splits = num_folds)\n",
    "        \n",
    "        y_pred = cross_val_predict(model, X_train, y_train, cv=kfold)\n",
    "        \n",
    "        cv_results = cross_val_score(model, X_train, y_train, cv = kfold, scoring = scoring, n_jobs = -1)\n",
    "        \n",
    "        models[name] = model\n",
    "        print(name)\n",
    "        display(conf_matrix(y_train, y_pred))"
   ]
  },
  {
   "cell_type": "code",
   "execution_count": 25,
   "id": "2608df50",
   "metadata": {},
   "outputs": [
    {
     "name": "stdout",
     "output_type": "stream",
     "text": [
      "DUM\n",
      "Precision: 0.50, Recall: 0.20, F1: 0.29\n"
     ]
    },
    {
     "data": {
      "text/html": [
       "<div>\n",
       "<style scoped>\n",
       "    .dataframe tbody tr th:only-of-type {\n",
       "        vertical-align: middle;\n",
       "    }\n",
       "\n",
       "    .dataframe tbody tr th {\n",
       "        vertical-align: top;\n",
       "    }\n",
       "\n",
       "    .dataframe thead th {\n",
       "        text-align: right;\n",
       "    }\n",
       "</style>\n",
       "<table border=\"1\" class=\"dataframe\">\n",
       "  <thead>\n",
       "    <tr style=\"text-align: right;\">\n",
       "      <th></th>\n",
       "      <th>Pred 0 (Not Fake)</th>\n",
       "      <th>Pred 1 (Fake)</th>\n",
       "    </tr>\n",
       "  </thead>\n",
       "  <tbody>\n",
       "    <tr>\n",
       "      <th>True 0 (Not Fake)</th>\n",
       "      <td>TN = 8287</td>\n",
       "      <td>FP = 2072</td>\n",
       "    </tr>\n",
       "    <tr>\n",
       "      <th>True 1 (Fake)</th>\n",
       "      <td>FN = 8288</td>\n",
       "      <td>TP = 2071</td>\n",
       "    </tr>\n",
       "  </tbody>\n",
       "</table>\n",
       "</div>"
      ],
      "text/plain": [
       "                  Pred 0 (Not Fake) Pred 1 (Fake)\n",
       "True 0 (Not Fake)         TN = 8287     FP = 2072\n",
       "True 1 (Fake)             FN = 8288     TP = 2071"
      ]
     },
     "metadata": {},
     "output_type": "display_data"
    },
    {
     "name": "stdout",
     "output_type": "stream",
     "text": [
      "LR\n",
      "Precision: 0.68, Recall: 0.85, F1: 0.75\n"
     ]
    },
    {
     "data": {
      "text/html": [
       "<div>\n",
       "<style scoped>\n",
       "    .dataframe tbody tr th:only-of-type {\n",
       "        vertical-align: middle;\n",
       "    }\n",
       "\n",
       "    .dataframe tbody tr th {\n",
       "        vertical-align: top;\n",
       "    }\n",
       "\n",
       "    .dataframe thead th {\n",
       "        text-align: right;\n",
       "    }\n",
       "</style>\n",
       "<table border=\"1\" class=\"dataframe\">\n",
       "  <thead>\n",
       "    <tr style=\"text-align: right;\">\n",
       "      <th></th>\n",
       "      <th>Pred 0 (Not Fake)</th>\n",
       "      <th>Pred 1 (Fake)</th>\n",
       "    </tr>\n",
       "  </thead>\n",
       "  <tbody>\n",
       "    <tr>\n",
       "      <th>True 0 (Not Fake)</th>\n",
       "      <td>TN = 6170</td>\n",
       "      <td>FP = 4189</td>\n",
       "    </tr>\n",
       "    <tr>\n",
       "      <th>True 1 (Fake)</th>\n",
       "      <td>FN = 1546</td>\n",
       "      <td>TP = 8813</td>\n",
       "    </tr>\n",
       "  </tbody>\n",
       "</table>\n",
       "</div>"
      ],
      "text/plain": [
       "                  Pred 0 (Not Fake) Pred 1 (Fake)\n",
       "True 0 (Not Fake)         TN = 6170     FP = 4189\n",
       "True 1 (Fake)             FN = 1546     TP = 8813"
      ]
     },
     "metadata": {},
     "output_type": "display_data"
    },
    {
     "name": "stdout",
     "output_type": "stream",
     "text": [
      "KNN\n",
      "Precision: 0.66, Recall: 0.67, F1: 0.66\n"
     ]
    },
    {
     "data": {
      "text/html": [
       "<div>\n",
       "<style scoped>\n",
       "    .dataframe tbody tr th:only-of-type {\n",
       "        vertical-align: middle;\n",
       "    }\n",
       "\n",
       "    .dataframe tbody tr th {\n",
       "        vertical-align: top;\n",
       "    }\n",
       "\n",
       "    .dataframe thead th {\n",
       "        text-align: right;\n",
       "    }\n",
       "</style>\n",
       "<table border=\"1\" class=\"dataframe\">\n",
       "  <thead>\n",
       "    <tr style=\"text-align: right;\">\n",
       "      <th></th>\n",
       "      <th>Pred 0 (Not Fake)</th>\n",
       "      <th>Pred 1 (Fake)</th>\n",
       "    </tr>\n",
       "  </thead>\n",
       "  <tbody>\n",
       "    <tr>\n",
       "      <th>True 0 (Not Fake)</th>\n",
       "      <td>TN = 6770</td>\n",
       "      <td>FP = 3589</td>\n",
       "    </tr>\n",
       "    <tr>\n",
       "      <th>True 1 (Fake)</th>\n",
       "      <td>FN = 3457</td>\n",
       "      <td>TP = 6902</td>\n",
       "    </tr>\n",
       "  </tbody>\n",
       "</table>\n",
       "</div>"
      ],
      "text/plain": [
       "                  Pred 0 (Not Fake) Pred 1 (Fake)\n",
       "True 0 (Not Fake)         TN = 6770     FP = 3589\n",
       "True 1 (Fake)             FN = 3457     TP = 6902"
      ]
     },
     "metadata": {},
     "output_type": "display_data"
    },
    {
     "name": "stdout",
     "output_type": "stream",
     "text": [
      "DT\n",
      "Precision: 0.68, Recall: 0.85, F1: 0.75\n"
     ]
    },
    {
     "data": {
      "text/html": [
       "<div>\n",
       "<style scoped>\n",
       "    .dataframe tbody tr th:only-of-type {\n",
       "        vertical-align: middle;\n",
       "    }\n",
       "\n",
       "    .dataframe tbody tr th {\n",
       "        vertical-align: top;\n",
       "    }\n",
       "\n",
       "    .dataframe thead th {\n",
       "        text-align: right;\n",
       "    }\n",
       "</style>\n",
       "<table border=\"1\" class=\"dataframe\">\n",
       "  <thead>\n",
       "    <tr style=\"text-align: right;\">\n",
       "      <th></th>\n",
       "      <th>Pred 0 (Not Fake)</th>\n",
       "      <th>Pred 1 (Fake)</th>\n",
       "    </tr>\n",
       "  </thead>\n",
       "  <tbody>\n",
       "    <tr>\n",
       "      <th>True 0 (Not Fake)</th>\n",
       "      <td>TN = 6170</td>\n",
       "      <td>FP = 4189</td>\n",
       "    </tr>\n",
       "    <tr>\n",
       "      <th>True 1 (Fake)</th>\n",
       "      <td>FN = 1546</td>\n",
       "      <td>TP = 8813</td>\n",
       "    </tr>\n",
       "  </tbody>\n",
       "</table>\n",
       "</div>"
      ],
      "text/plain": [
       "                  Pred 0 (Not Fake) Pred 1 (Fake)\n",
       "True 0 (Not Fake)         TN = 6170     FP = 4189\n",
       "True 1 (Fake)             FN = 1546     TP = 8813"
      ]
     },
     "metadata": {},
     "output_type": "display_data"
    }
   ],
   "source": [
    "from sklearn.linear_model import LogisticRegression\n",
    "from sklearn.dummy import DummyClassifier\n",
    "from sklearn.neighbors import KNeighborsClassifier\n",
    "from sklearn.tree import DecisionTreeClassifier\n",
    "\n",
    "models = {'DUM' : DummyClassifier(strategy=\"most_frequent\"),\n",
    "          'LR' :LogisticRegression(solver='lbfgs') ,\n",
    "          'KNN' : KNeighborsClassifier(),\n",
    "          'DT': DecisionTreeClassifier(),\n",
    "         }\n",
    "\n",
    "compare_models(new_X_train, new_y_train, models)"
   ]
  },
  {
   "cell_type": "markdown",
   "id": "0de6a70f",
   "metadata": {},
   "source": [
    "$$\n",
    "\\begin{align}\n",
    " Precision = \\frac{TP}{TP+FP} &&  Recall = \\frac{TP}{TP+FN}\n",
    "\\end{align}\n",
    "$$\n",
    "\n",
    "\n",
    "$$\n",
    "  F1 = \\frac{2}{\\frac{1}{Precision} + \\frac{1}{Recall}}\n",
    "$$\n",
    "\n",
    "\n",
    "Precision quantifies the number of positive class predictions that actually belong to the positive class (`Fake`).\n",
    "A precision of `0.6` means when the model predicts a Fake event, it is correct `60%` of the time.\n",
    "\n",
    "Recall quantifies the number of positive class (`Fake`) predictions made out of all positive examples in the dataset.\n",
    "A model with a recall of `0.85` means it correctly identifies 85% of all `Fake` events.\n",
    "\n",
    "F1 (harmonic mean of precision and recall) provides a single score that balances both the concerns of precision and recall in one number."
   ]
  },
  {
   "cell_type": "markdown",
   "id": "9fc3a635",
   "metadata": {},
   "source": [
    "# Model tunning"
   ]
  },
  {
   "cell_type": "code",
   "execution_count": 11,
   "id": "38a9c846",
   "metadata": {},
   "outputs": [],
   "source": [
    "from sklearn.model_selection import GridSearchCV\n",
    "seed = 44\n",
    "def grid_search_cv(model, params, scoring=\"f1\", cv = 10):    \n",
    "    grid_search = GridSearchCV(estimator = model, param_grid = params, cv = cv, verbose = 1,\n",
    "                             scoring = scoring, n_jobs = -1)\n",
    "    grid_search.fit(new_X_train, new_y_train)\n",
    "    best_params = grid_search.best_params_\n",
    "    best_score = grid_search.best_score_\n",
    "    best_estimator = grid_search.best_estimator_\n",
    "    \n",
    "    return best_estimator, best_params, best_score"
   ]
  },
  {
   "cell_type": "code",
   "execution_count": 12,
   "id": "0e418d4e",
   "metadata": {},
   "outputs": [
    {
     "name": "stdout",
     "output_type": "stream",
     "text": [
      "Fitting 5 folds for each of 24 candidates, totalling 120 fits\n",
      "LR best params:{'C': 0.01, 'penalty': 'l1', 'solver': 'saga'} & best_score:0.75779 / LogisticRegression(C=0.01, penalty='l1', solver='saga')\n"
     ]
    }
   ],
   "source": [
    "LR_model = LogisticRegression()\n",
    "\n",
    "LR_params = [\n",
    "  {'penalty': ['l1'], 'solver': [ 'saga','liblinear'], 'C': [ 0.01,0.1, 1, 10]},\n",
    "  {'penalty': ['l2'], 'solver': ['newton-cg', 'sag', 'saga','lbfgs'], 'C': [ 0.01,0.1, 1, 10]},\n",
    " ]\n",
    "\n",
    "\n",
    "LR_best_estimator, LR_best_params, LR_best_score= grid_search_cv(LR_model, LR_params, scoring=\"f1\", cv= 5)\n",
    "print(f\"LR best params:{LR_best_params} & best_score:{LR_best_score:0.5f} / {LR_best_estimator}\")"
   ]
  },
  {
   "cell_type": "code",
   "execution_count": 13,
   "id": "23475acc",
   "metadata": {},
   "outputs": [
    {
     "name": "stdout",
     "output_type": "stream",
     "text": [
      "Fitting 5 folds for each of 24 candidates, totalling 120 fits\n",
      "KNN best params:{'algorithm': 'auto', 'n_neighbors': 5, 'weights': 'uniform'} & best_score:0.658 / KNeighborsClassifier()\n"
     ]
    }
   ],
   "source": [
    "knears_params = {\"n_neighbors\": [2, 3, 4, 5], 'algorithm': ['auto', 'ball_tree', 'kd_tree'], \"weights\": ['uniform', 'distance']}\n",
    "\n",
    "KNN_model = KNeighborsClassifier()\n",
    "grid_knears = GridSearchCV(KNN_model, knears_params)\n",
    "\n",
    "KNN_best_estimator, KNN_best_params, KNN_best_score= grid_search_cv(KNN_model, knears_params, scoring=\"f1\", cv= 5)\n",
    "print(f\"KNN best params:{KNN_best_params} & best_score:{KNN_best_score:0.3f} / {KNN_best_estimator}\")"
   ]
  },
  {
   "cell_type": "markdown",
   "id": "aae51738",
   "metadata": {},
   "source": [
    "# Model testing"
   ]
  },
  {
   "cell_type": "code",
   "execution_count": 28,
   "id": "3b355d26",
   "metadata": {},
   "outputs": [
    {
     "data": {
      "text/html": [
       "<div>\n",
       "<style scoped>\n",
       "    .dataframe tbody tr th:only-of-type {\n",
       "        vertical-align: middle;\n",
       "    }\n",
       "\n",
       "    .dataframe tbody tr th {\n",
       "        vertical-align: top;\n",
       "    }\n",
       "\n",
       "    .dataframe thead th {\n",
       "        text-align: right;\n",
       "    }\n",
       "</style>\n",
       "<table border=\"1\" class=\"dataframe\">\n",
       "  <thead>\n",
       "    <tr style=\"text-align: right;\">\n",
       "      <th></th>\n",
       "      <th>UserId</th>\n",
       "      <th>Event</th>\n",
       "      <th>Category</th>\n",
       "      <th>Fake</th>\n",
       "    </tr>\n",
       "  </thead>\n",
       "  <tbody>\n",
       "    <tr>\n",
       "      <th>0</th>\n",
       "      <td>03E7EE785DT</td>\n",
       "      <td>click_carrousel</td>\n",
       "      <td>Phone</td>\n",
       "      <td>0</td>\n",
       "    </tr>\n",
       "    <tr>\n",
       "      <th>1</th>\n",
       "      <td>F0F3098683T</td>\n",
       "      <td>click_ad</td>\n",
       "      <td>Leisure</td>\n",
       "      <td>0</td>\n",
       "    </tr>\n",
       "    <tr>\n",
       "      <th>2</th>\n",
       "      <td>5064A38F0DT</td>\n",
       "      <td>click_carrousel</td>\n",
       "      <td>Phone</td>\n",
       "      <td>0</td>\n",
       "    </tr>\n",
       "    <tr>\n",
       "      <th>3</th>\n",
       "      <td>5C8E90A354T</td>\n",
       "      <td>click_carrousel</td>\n",
       "      <td>Motor</td>\n",
       "      <td>0</td>\n",
       "    </tr>\n",
       "    <tr>\n",
       "      <th>4</th>\n",
       "      <td>DC1F29D286T</td>\n",
       "      <td>send_sms</td>\n",
       "      <td>Motor</td>\n",
       "      <td>0</td>\n",
       "    </tr>\n",
       "  </tbody>\n",
       "</table>\n",
       "</div>"
      ],
      "text/plain": [
       "        UserId            Event Category  Fake\n",
       "0  03E7EE785DT  click_carrousel    Phone     0\n",
       "1  F0F3098683T         click_ad  Leisure     0\n",
       "2  5064A38F0DT  click_carrousel    Phone     0\n",
       "3  5C8E90A354T  click_carrousel    Motor     0\n",
       "4  DC1F29D286T         send_sms    Motor     0"
      ]
     },
     "execution_count": 28,
     "metadata": {},
     "output_type": "execute_result"
    }
   ],
   "source": [
    "df_test = pd.read_csv(\"../data/fake_users_test.csv\")\n",
    "df_test.head()"
   ]
  },
  {
   "cell_type": "code",
   "execution_count": 29,
   "id": "30243baf",
   "metadata": {},
   "outputs": [
    {
     "data": {
      "text/html": [
       "<div>\n",
       "<style scoped>\n",
       "    .dataframe tbody tr th:only-of-type {\n",
       "        vertical-align: middle;\n",
       "    }\n",
       "\n",
       "    .dataframe tbody tr th {\n",
       "        vertical-align: top;\n",
       "    }\n",
       "\n",
       "    .dataframe thead th {\n",
       "        text-align: right;\n",
       "    }\n",
       "</style>\n",
       "<table border=\"1\" class=\"dataframe\">\n",
       "  <thead>\n",
       "    <tr style=\"text-align: right;\">\n",
       "      <th></th>\n",
       "      <th>Event_click_ad</th>\n",
       "      <th>Event_click_carrousel</th>\n",
       "      <th>Event_phone_call</th>\n",
       "      <th>Event_send_email</th>\n",
       "      <th>Event_send_sms</th>\n",
       "      <th>Category_Holidays</th>\n",
       "      <th>Category_Jobs</th>\n",
       "      <th>Category_Leisure</th>\n",
       "      <th>Category_Motor</th>\n",
       "      <th>Category_Phone</th>\n",
       "      <th>Category_Real_State</th>\n",
       "    </tr>\n",
       "  </thead>\n",
       "  <tbody>\n",
       "    <tr>\n",
       "      <th>0</th>\n",
       "      <td>0</td>\n",
       "      <td>1</td>\n",
       "      <td>0</td>\n",
       "      <td>0</td>\n",
       "      <td>0</td>\n",
       "      <td>0</td>\n",
       "      <td>0</td>\n",
       "      <td>0</td>\n",
       "      <td>0</td>\n",
       "      <td>1</td>\n",
       "      <td>0</td>\n",
       "    </tr>\n",
       "    <tr>\n",
       "      <th>1</th>\n",
       "      <td>1</td>\n",
       "      <td>0</td>\n",
       "      <td>0</td>\n",
       "      <td>0</td>\n",
       "      <td>0</td>\n",
       "      <td>0</td>\n",
       "      <td>0</td>\n",
       "      <td>1</td>\n",
       "      <td>0</td>\n",
       "      <td>0</td>\n",
       "      <td>0</td>\n",
       "    </tr>\n",
       "    <tr>\n",
       "      <th>2</th>\n",
       "      <td>0</td>\n",
       "      <td>1</td>\n",
       "      <td>0</td>\n",
       "      <td>0</td>\n",
       "      <td>0</td>\n",
       "      <td>0</td>\n",
       "      <td>0</td>\n",
       "      <td>0</td>\n",
       "      <td>0</td>\n",
       "      <td>1</td>\n",
       "      <td>0</td>\n",
       "    </tr>\n",
       "    <tr>\n",
       "      <th>3</th>\n",
       "      <td>0</td>\n",
       "      <td>1</td>\n",
       "      <td>0</td>\n",
       "      <td>0</td>\n",
       "      <td>0</td>\n",
       "      <td>0</td>\n",
       "      <td>0</td>\n",
       "      <td>0</td>\n",
       "      <td>1</td>\n",
       "      <td>0</td>\n",
       "      <td>0</td>\n",
       "    </tr>\n",
       "    <tr>\n",
       "      <th>4</th>\n",
       "      <td>0</td>\n",
       "      <td>0</td>\n",
       "      <td>0</td>\n",
       "      <td>0</td>\n",
       "      <td>1</td>\n",
       "      <td>0</td>\n",
       "      <td>0</td>\n",
       "      <td>0</td>\n",
       "      <td>1</td>\n",
       "      <td>0</td>\n",
       "      <td>0</td>\n",
       "    </tr>\n",
       "  </tbody>\n",
       "</table>\n",
       "</div>"
      ],
      "text/plain": [
       "   Event_click_ad  Event_click_carrousel  Event_phone_call  Event_send_email  \\\n",
       "0               0                      1                 0                 0   \n",
       "1               1                      0                 0                 0   \n",
       "2               0                      1                 0                 0   \n",
       "3               0                      1                 0                 0   \n",
       "4               0                      0                 0                 0   \n",
       "\n",
       "   Event_send_sms  Category_Holidays  Category_Jobs  Category_Leisure  \\\n",
       "0               0                  0              0                 0   \n",
       "1               0                  0              0                 1   \n",
       "2               0                  0              0                 0   \n",
       "3               0                  0              0                 0   \n",
       "4               1                  0              0                 0   \n",
       "\n",
       "   Category_Motor  Category_Phone  Category_Real_State  \n",
       "0               0               1                    0  \n",
       "1               0               0                    0  \n",
       "2               0               1                    0  \n",
       "3               1               0                    0  \n",
       "4               1               0                    0  "
      ]
     },
     "execution_count": 29,
     "metadata": {},
     "output_type": "execute_result"
    }
   ],
   "source": [
    "y_test = df_test.pop(\"Fake\")\n",
    "X_test = df_test\n",
    "\n",
    "X_test_f= df_test.iloc[:,1:]\n",
    "X_test_f = pd.get_dummies(X_test_f, columns=['Event', 'Category'], prefix = ['Event', 'Category'])\n",
    "X_test_f.head()"
   ]
  },
  {
   "cell_type": "code",
   "execution_count": 30,
   "id": "2e1e37da",
   "metadata": {},
   "outputs": [
    {
     "name": "stdout",
     "output_type": "stream",
     "text": [
      "---------------------------------------------------------------------------------------------------------\n",
      "Recall: 0.48\n",
      "Precision: 0.21\n",
      "F1 Score: 1.00\n",
      "Accuracy Score: 0.67\n",
      "---------------------------------------------------------------------------------------------------------\n"
     ]
    }
   ],
   "source": [
    "from sklearn.metrics import recall_score, precision_score, f1_score, accuracy_score,confusion_matrix\n",
    "\n",
    "knn = KNeighborsClassifier(n_neighbors=5)\n",
    "knn.fit(new_X_train, new_y_train)\n",
    "\n",
    "\n",
    "y_pred = knn.predict(X_test_f)\n",
    "y_proba = knn.predict_proba(X_test_f)\n",
    "\n",
    "\n",
    "# Overfitting Case\n",
    "print('---' * 35)\n",
    "print(f'Recall: {recall_score(y_test, y_pred):.2f}')\n",
    "print(f'Precision: {precision_score(y_test, y_pred):.2f}')\n",
    "print(f'F1 Score: {f1_score(y_test, y_test):.2f}')\n",
    "print(f'Accuracy Score: {accuracy_score(y_test, y_pred):.2f}')\n",
    "print('---' * 35)"
   ]
  },
  {
   "cell_type": "code",
   "execution_count": 31,
   "id": "c2677bf7",
   "metadata": {},
   "outputs": [
    {
     "name": "stdout",
     "output_type": "stream",
     "text": [
      "---------------------------------------------------------------------------------------------------------\n",
      "Recall: 0.84\n",
      "Precision: 0.25\n",
      "F1 Score: 1.00\n",
      "Accuracy Score: 0.64\n",
      "---------------------------------------------------------------------------------------------------------\n"
     ]
    }
   ],
   "source": [
    "model = LogisticRegression(C=0.01, penalty='l1', solver='saga')\n",
    "model.fit(new_X_train, new_y_train)\n",
    "\n",
    "y_pred = model.predict(X_test_f)\n",
    "y_proba = model.predict_proba(X_test_f)\n",
    "\n",
    "\n",
    "# Overfitting Case\n",
    "print('---' * 35)\n",
    "print(f'Recall: {recall_score(y_test, y_pred):.2f}')\n",
    "print(f'Precision: {precision_score(y_test, y_pred):.2f}')\n",
    "print(f'F1 Score: {f1_score(y_test, y_test):.2f}')\n",
    "print(f'Accuracy Score: {accuracy_score(y_test, y_pred):.2f}')\n",
    "print('---' * 35)"
   ]
  },
  {
   "cell_type": "code",
   "execution_count": 32,
   "id": "64b71ac4",
   "metadata": {},
   "outputs": [
    {
     "data": {
      "text/html": [
       "<div>\n",
       "<style scoped>\n",
       "    .dataframe tbody tr th:only-of-type {\n",
       "        vertical-align: middle;\n",
       "    }\n",
       "\n",
       "    .dataframe tbody tr th {\n",
       "        vertical-align: top;\n",
       "    }\n",
       "\n",
       "    .dataframe thead th {\n",
       "        text-align: right;\n",
       "    }\n",
       "</style>\n",
       "<table border=\"1\" class=\"dataframe\">\n",
       "  <thead>\n",
       "    <tr style=\"text-align: right;\">\n",
       "      <th></th>\n",
       "      <th>UserId</th>\n",
       "      <th>Event</th>\n",
       "      <th>Category</th>\n",
       "      <th>is_fake_probability</th>\n",
       "    </tr>\n",
       "  </thead>\n",
       "  <tbody>\n",
       "    <tr>\n",
       "      <th>2993</th>\n",
       "      <td>1B47910B14T</td>\n",
       "      <td>click_ad</td>\n",
       "      <td>Holidays</td>\n",
       "      <td>0.656710</td>\n",
       "    </tr>\n",
       "    <tr>\n",
       "      <th>2994</th>\n",
       "      <td>35F59C96B7T</td>\n",
       "      <td>phone_call</td>\n",
       "      <td>Holidays</td>\n",
       "      <td>0.226281</td>\n",
       "    </tr>\n",
       "    <tr>\n",
       "      <th>2995</th>\n",
       "      <td>F0F3098683T</td>\n",
       "      <td>click_ad</td>\n",
       "      <td>Jobs</td>\n",
       "      <td>0.656710</td>\n",
       "    </tr>\n",
       "    <tr>\n",
       "      <th>2996</th>\n",
       "      <td>DF4F1E3B6ET</td>\n",
       "      <td>send_email</td>\n",
       "      <td>Leisure</td>\n",
       "      <td>0.667746</td>\n",
       "    </tr>\n",
       "    <tr>\n",
       "      <th>2997</th>\n",
       "      <td>30E94533A4T</td>\n",
       "      <td>send_sms</td>\n",
       "      <td>Real_State</td>\n",
       "      <td>0.226281</td>\n",
       "    </tr>\n",
       "  </tbody>\n",
       "</table>\n",
       "</div>"
      ],
      "text/plain": [
       "           UserId       Event    Category  is_fake_probability\n",
       "2993  1B47910B14T    click_ad    Holidays             0.656710\n",
       "2994  35F59C96B7T  phone_call    Holidays             0.226281\n",
       "2995  F0F3098683T    click_ad        Jobs             0.656710\n",
       "2996  DF4F1E3B6ET  send_email     Leisure             0.667746\n",
       "2997  30E94533A4T    send_sms  Real_State             0.226281"
      ]
     },
     "execution_count": 32,
     "metadata": {},
     "output_type": "execute_result"
    }
   ],
   "source": [
    "sub = pd.DataFrame(data=X_test)\n",
    "sub['is_fake_probability'] =  y_proba[:,1]\n",
    "sub.tail()"
   ]
  },
  {
   "cell_type": "markdown",
   "id": "86e91921",
   "metadata": {},
   "source": [
    "# Conclusion\n",
    "\n",
    "A limitation of random undersampling is that examples are removed without any concern for how useful or important they might be in determining the decision boundary between the classes."
   ]
  },
  {
   "cell_type": "code",
   "execution_count": null,
   "id": "3eaa4ac3",
   "metadata": {},
   "outputs": [],
   "source": []
  }
 ],
 "metadata": {
  "kernelspec": {
   "display_name": "ntb",
   "language": "python",
   "name": "ntb"
  },
  "language_info": {
   "codemirror_mode": {
    "name": "ipython",
    "version": 3
   },
   "file_extension": ".py",
   "mimetype": "text/x-python",
   "name": "python",
   "nbconvert_exporter": "python",
   "pygments_lexer": "ipython3",
   "version": "3.10.0"
  }
 },
 "nbformat": 4,
 "nbformat_minor": 5
}
